{
 "cells": [
  {
   "cell_type": "markdown",
   "metadata": {},
   "source": [
    "# Overview\n",
    "\n",
    "\n",
    "We will kick things off with an **in class** lecture on few more administrative things\n",
    "* Groups\n",
    "* The large-scale structure of the class\n",
    "   * Networks and NLP\n",
    "   * Exercises versus Assignments\n",
    "   * The final project\n",
    "* Other stuff (when lectures will be posted, etc)\n",
    "\n",
    "It might seem boring to hear about admin, **but this is the stuff you need to know to do well in the class**. So I recommend showing up in class!\n",
    "\n",
    "Then, we kick into gear and get started on the actual work. This week is about getting familiar with networks, and we'll focus on four main elements\n",
    "\n",
    "* A short talk on the basic mathematical description of networks\n",
    "* The `NetworkX` library \n",
    "* Matplotlib, binning, and plotting degree distributions\n",
    "* Random networks\n",
    "\n",
    "(The work-load is still a little bit light, since we want to allow those who are not super-strong at programming a bit of time to catch up. If you're bored and in need of extra work, let me know and I'll point you in the right direction.)"
   ]
  },
  {
   "cell_type": "markdown",
   "metadata": {},
   "source": [
    "# Part 1: Basic mathematical description of networks\n",
    "\n",
    "This week, let's start with some lecturing. I love networks, so I'll take some time today to tell you about them."
   ]
  },
  {
   "cell_type": "markdown",
   "metadata": {},
   "source": [
    "> **_Video Lecture_**. Then check out a few comments on \"Network Notation\" (don't worry it's short). "
   ]
  },
  {
   "cell_type": "code",
   "execution_count": 1,
   "metadata": {},
   "outputs": [
    {
     "data": {
      "image/jpeg": "[encoded data removed]",
      "text/html": [
       "\n",
       "        <iframe\n",
       "            width=\"800\"\n",
       "            height=\"450\"\n",
       "            src=\"https://www.youtube.com/embed/MMziC5xktHs\"\n",
       "            frameborder=\"0\"\n",
       "            allowfullscreen\n",
       "            \n",
       "        ></iframe>\n",
       "        "
      ],
      "text/plain": [
       "<IPython.lib.display.YouTubeVideo at 0x10730aba0>"
      ]
     },
     "execution_count": 1,
     "metadata": {},
     "output_type": "execute_result"
    }
   ],
   "source": [
    "from IPython.display import YouTubeVideo\n",
    "YouTubeVideo(\"MMziC5xktHs\",width=800, height=450) \n",
    "# Or use https://www.youtube.com/watch?v=MMziC5xktHs if the video isn't displaying"
   ]
  },
  {
   "cell_type": "markdown",
   "metadata": {},
   "source": [
    "Now for some reading\n",
    "\n",
    "> _Reading_. We'll be reading the textbook _Network Science_ (NS) by Laszlo Barabasi. You can find the whole \n",
    "> thing for free [**here**](http://networksciencebook.com). \n",
    ">\n",
    "> * Read chapter 2\\.\n",
    "> "
   ]
  },
  {
   "cell_type": "markdown",
   "metadata": {},
   "source": [
    "And the associated exercises\n",
    "\n",
    "> *Exercises*: Chapter 2 in *Network Science*.\n",
    "> \n",
    "> * Section 2.5 states that real networks are sparse. Can you think of a real network where each node has _many_ connections? Is that network still sparse? If yes, can you explain why?\n",
    "> \n",
    "> There are more questions on Chapter 2 below.\n",
    "\n",
    "<div class=\"alert alert-block alert-info\">\n",
    "Just as last week, you might be tempted to use an LLM to come up with your answer. Don't! Remember what I said about the *illusion of knowledge* that you get when you take shortcuts. Don't fall into the trap. Think! Write down your own thoughts. And when you're done, you can use an LLM to make the answers better.\n",
    "</div>\n"
   ]
  },
  {
   "cell_type": "markdown",
   "metadata": {},
   "source": [
    "# Part 2: Exercises using the `NetworkX` library\n",
    "\n",
    "Let's try to solve a few of the exercises from the book **using `NetworkX`**\n",
    "\n",
    "> *Exercises*:\n",
    "> \n",
    "> * Go to NS Section 2.12: Homework, then\n",
    ">   * Write the solution exercise **2.1** (the 'Königsberg Problem') from NS in your `notebook`. \n",
    ">   * Solve exercise **2.3** ('Graph representation') from NS using `NetworkX` in your `notebook`. (You don't have to solve the last sub-question about *cycles of length 4* ... but I'll be impressed if you do it. One more thing on that last sub-exercise: It's easier to solve if you don't use `NetworkX`, but simple pen and paper).\n",
    ">   * Solve exercise **2.5** ('Bipartite Networks') from NS using `NetworkX` in your `notebook`. *Important note*: There is a a mistake in the book. When it says \"Block diagonal\", they mean \"Anti-block diagonal\" (all elements are away from the diagonal blocks). \n",
    ">     - *Note*: For those without the physical book (and therefore no exercise numbers), the part \"Bipartite Networks - General Considerations\" does not need to be solved (the two last questions do not make much sense to me).\n",
    "\n",
    "<div class=\"alert alert-block alert-info\">\n",
    "The \"no-LLM\" idea also applies here. The idea is to try to use NetworkX to solve some problems. Give it a shot on your own. You can ask your LLM for hints if you get stuck. But don't ask for the answer. Find it yourself 😎\n",
    "</div>"
   ]
  },
  {
   "cell_type": "markdown",
   "metadata": {},
   "source": [
    "> **_Video Lecture_**: Once again, it's time to stop working for a couple of minutes to hear me talk about plotting with `NetworkX`. \n",
    "> "
   ]
  },
  {
   "cell_type": "code",
   "execution_count": 5,
   "metadata": {},
   "outputs": [
    {
     "data": {
      "image/jpeg": "[encoded data removed]",
      "text/html": [
       "\n",
       "        <iframe\n",
       "            width=\"800\"\n",
       "            height=\"450\"\n",
       "            src=\"https://www.youtube.com/embed/iDlb9On_TDQ\"\n",
       "            frameborder=\"0\"\n",
       "            allowfullscreen\n",
       "            \n",
       "        ></iframe>\n",
       "        "
      ],
      "text/plain": [
       "<IPython.lib.display.YouTubeVideo at 0x107328800>"
      ]
     },
     "execution_count": 5,
     "metadata": {},
     "output_type": "execute_result"
    }
   ],
   "source": [
    "YouTubeVideo(\"iDlb9On_TDQ\",width=800, height=450) \n",
    "# https://www.youtube.com/watch?v=iDlb9On_TDQ"
   ]
  },
  {
   "cell_type": "markdown",
   "metadata": {},
   "source": [
    "# Part 3: Plotting degree distributions\n",
    "\n",
    "As always we'll learn about degree-distribution plotting by creating a `notebook` and trying it out. \n",
    "\n",
    "As a little public service announcement about this exercise: I know that you've probably tried binning data before. And that there are many functions designed to make binning easy, so there is a good chance that you think that binning data into bins is something that you don't have to worry about.\n",
    "\n",
    "**BUT** ... with this exercise, I aim to convince you that binning isn't always trivial. And that there are key things to think about every time you need to put data into buckets. So please read the exercise carefully. And follow my instructions carefully.\n",
    "\n",
    "<div class=\"alert alert-block alert-info\">\n",
    "As I hint right above, this exercise is about you discovering nuances of binning: How defining bins that fit the data is important. How the first and last bin can sometimes be tricky. You won't discover that if you get help, so again I encourage you to try it all on your own.\n",
    "</div>\n",
    "**And don't just use the built-in binning functions. That misses the point. Instead follow the exercise carefully**. \n",
    "\n",
    "> \n",
    "> *Exercises*:\n",
    "> \n",
    "> Begin by importing the right packages. Start by importing `matplotlib.pyplot` (for plotting), `numpy` (for binning and other stuff), \n",
    "> `random` (for generating random numbers), and `networkx` (for generating networks.)\n",
    "> \n",
    "> * Binning real numbers\n",
    ">   * Let's do a gentle start and use the `random` library generate 5000 data points from a Gaussian distribution with $\\mu = 2$ and $\\sigma = 0.125$.\n",
    ">   * Now, let's use `numpy.histogram` to bin those number into 10 bins. What does the `numpy.histogram` function return? Do the two arrays have the same length?\n",
    ">   * Then we use `matplotlib.pyplot.plot` to plot the binned data. You will have to deal with the fact that the counts- and bin-arrays have different lengths. Explain how you deal with this problem and why.\n",
    "> * Binning integers\n",
    ">   * But binning real numbers into a fixed number of bins is easy when `numpy.histogram` does all the work and finds the right bin boundaries for you. \n",
    "> Now we'll generate a bunch of integers and set the bin boundaries manually. This time, let's grab data from a Poisson distribution. As it turns out \n",
    "> `numpy` also has some convenient random number generators. Use `numpy.random.poisson` to generate 5000 numbers drawn from a Poisson distribution \n",
    "> characterized by $\\lambda = 10$. Find the maximum and minimum value of your 5000 random numbers. \n",
    ">   * Instead of simply specifying the number of bins for `numpy.histogram`, let's specify the bins we want using a vector. \n",
    "> Create a vector $v$\n",
    "> that results in a binning that puts each integer value in its own bin and where the first bin contains the minimum number you found above, \n",
    "> and the last bin contains the maximum number. \n",
    "> Use the vector by setting `numpy.histogram`'s `bin` parameter as `bin = ` $v$. \n",
    "> What is the sum over bin counts? Explain how the binning-vectors first and last element \n",
    "> relates to the min and max from the Poisson distribution.\n",
    ">   * Now, use a bar chart (`matplotlib.pyplot.bar`) to plot the distribution \n",
    "> * Binning and plotting degree distributions. \n",
    ">   * Let's generate the Erdös-Renyi (ER) network which has a degree distribution that matches the Poisson distribution above. \n",
    "> First we have to figure out which values the ER parameters (_N_ and _p_) should assume. It's easy to see that $N = 5000$, but how do you find $p$? \n",
    "> **Hint**: The parameter $\\lambda$ in the Poisson distribution corresponds to the average degree, so you have to find a $p$ that results in an average \n",
    "> degree, $k = 10$. And you know that $\\langle k \\rangle = p (N-1)$, which will give you $p$.\n",
    ">   * Now, use `networkx` to create the graph and extract the degree distribution.\n",
    ">   * Finally, create a nice bar plot of the degree distribution, including axes labels and a plot title. Make sure that it looks like the Poisson distribution you plotted above.\n",
    "> "
   ]
  },
  {
   "cell_type": "markdown",
   "metadata": {},
   "source": [
    "# Part 4: Random networks\n",
    "\n",
    "> **_Video Lecture_**. Now it's time to relax and watch a few minutes of info on _Random Networks_. "
   ]
  },
  {
   "cell_type": "code",
   "execution_count": 4,
   "metadata": {},
   "outputs": [
    {
     "data": {
      "image/jpeg": "[encoded data removed]",
      "text/html": [
       "\n",
       "        <iframe\n",
       "            width=\"800\"\n",
       "            height=\"450\"\n",
       "            src=\"https://www.youtube.com/embed/c_SbQCzgqb0\"\n",
       "            frameborder=\"0\"\n",
       "            allowfullscreen\n",
       "            \n",
       "        ></iframe>\n",
       "        "
      ],
      "text/plain": [
       "<IPython.lib.display.YouTubeVideo at 0x107328590>"
      ]
     },
     "execution_count": 4,
     "metadata": {},
     "output_type": "execute_result"
    }
   ],
   "source": [
    "YouTubeVideo(\"c_SbQCzgqb0\",width=800, height=450) \n",
    "# https://www.youtube.com/watch?v=c_SbQCzgqb0"
   ]
  },
  {
   "cell_type": "markdown",
   "metadata": {},
   "source": [
    "> _Reading_. Read section 3.1-3.7 (the most important part is 3.1-3.4) of Chapter 3 of _Network Science_. You can find the entire book [**here**](http://barabasi.com/networksciencebook/).\n"
   ]
  },
  {
   "cell_type": "markdown",
   "metadata": {},
   "source": [
    "> _Exercises_ (should be completed in a `notebook`):\n",
    "> \n",
    "> * Work through NS exercise 3.1 ('Erdős-Rényi Networks'). The exercise can be found in Section 3.11: Homework.\n",
    "> * Paths. Plot a random network with 200 nodes and an average degree of 1.5\\. (I suggest using `networkx.draw` and reading [the documentation](https://networkx.github.io/documentation/stable/reference/drawing.html) carefully to get an overview of all the options and what they look like. For example, you may want to shrink the node size).\n",
    ">   * Extract the Giant Connected Component, GCC. (Hint: You can use `networkx.connected_component_subgraphs` <- it works in ealier versions of NetworkX (<2.5) || Otherwise, you can use `nx.connected_components(G)` and `G.subgraph(c).copy()`)\n",
    ">   * Choose a node at random from the GCC. (Hint: You may want to try `random.choice`.)\n",
    ">   * Find all nodes that are precisely 2 steps away from that node. (Hint. I suggest `networkx.single_source_shortest_path_length`)\n",
    ">   * Plot the GCC with the following choice of colors. Starting node _black_ (`\"#000000\"`). The nodes 2 steps away _red_ (`\"#ff0000\"`). All other nodes _blue_ (`\"#A0CBE2\"`). Again, I suggest using `networkx.draw()` and reading [the documentation](https://networkx.github.io/documentation/stable/reference/drawing.html) carefully find out how to color individual nodes.\n",
    "> \n",
    "\n",
    "<div class=\"alert alert-block alert-info\">\n",
    "For this exercise, I think you should solve the technical parts on your own (see above for reasons), but it's totally OK to use your LLM to make the plot look better!\n",
    "</div>\n",
    "\n",
    "By the way, the default plot coming out of `networkx` doesn't look like the one below. But by tweaking parameters, you should be able to create something that looks like it.\n",
    "\n",
    "![Sune's Network](https://raw.githubusercontent.com/suneman/socialgraphs2019/master/files/edge_colormap.png)"
   ]
  },
  {
   "cell_type": "code",
   "execution_count": null,
   "metadata": {},
   "outputs": [],
   "source": []
  }
 ],
 "metadata": {
  "anaconda-cloud": {},
  "kernelspec": {
   "display_name": "Python 3 (ipykernel)",
   "language": "python",
   "name": "python3"
  },
  "language_info": {
   "codemirror_mode": {
    "name": "ipython",
    "version": 3
   },
   "file_extension": ".py",
   "mimetype": "text/x-python",
   "name": "python",
   "nbconvert_exporter": "python",
   "pygments_lexer": "ipython3",
   "version": "3.12.7"
  }
 },
 "nbformat": 4,
 "nbformat_minor": 4
}
