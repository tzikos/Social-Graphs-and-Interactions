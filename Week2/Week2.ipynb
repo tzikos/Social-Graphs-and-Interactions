{
 "cells": [
  {
   "cell_type": "markdown",
   "metadata": {},
   "source": [
    "# Overview\n",
    "\n",
    "\n",
    "We will kick things off with an **in class** lecture on few more administrative things\n",
    "* Groups\n",
    "* The large-scale structure of the class\n",
    "   * Networks and NLP\n",
    "   * Exercises versus Assignments\n",
    "   * The final project\n",
    "* Other stuff (when lectures will be posted, etc)\n",
    "\n",
    "It might seem boring to hear about admin, **but this is the stuff you need to know to do well in the class**. So I recommend showing up in class!\n",
    "\n",
    "Then, we kick into gear and get started on the actual work. This week is about getting familiar with networks, and we'll focus on four main elements\n",
    "\n",
    "* A short talk on the basic mathematical description of networks\n",
    "* The `NetworkX` library \n",
    "* Matplotlib, binning, and plotting degree distributions\n",
    "* Random networks\n",
    "\n",
    "(The work-load is still a little bit light, since we want to allow those who are not super-strong at programming a bit of time to catch up. If you're bored and in need of extra work, let me know and I'll point you in the right direction.)"
   ]
  },
  {
   "cell_type": "markdown",
   "metadata": {},
   "source": [
    "# Part 1: Basic mathematical description of networks\n",
    "\n",
    "This week, let's start with some lecturing. I love networks, so I'll take some time today to tell you about them."
   ]
  },
  {
   "cell_type": "markdown",
   "metadata": {},
   "source": [
    "> **_Video Lecture_**. Then check out a few comments on \"Network Notation\" (don't worry it's short). "
   ]
  },
  {
   "cell_type": "code",
   "execution_count": 1,
   "metadata": {},
   "outputs": [
    {
     "data": {
      "image/jpeg": "[encoded data removed]",
      "text/html": [
       "\n",
       "        <iframe\n",
       "            width=\"800\"\n",
       "            height=\"450\"\n",
       "            src=\"https://www.youtube.com/embed/MMziC5xktHs\"\n",
       "            frameborder=\"0\"\n",
       "            allowfullscreen\n",
       "            \n",
       "        ></iframe>\n",
       "        "
      ],
      "text/plain": [
       "<IPython.lib.display.YouTubeVideo at 0x106819190>"
      ]
     },
     "execution_count": 1,
     "metadata": {},
     "output_type": "execute_result"
    }
   ],
   "source": [
    "from IPython.display import YouTubeVideo\n",
    "YouTubeVideo(\"MMziC5xktHs\",width=800, height=450) \n",
    "# Or use https://www.youtube.com/watch?v=MMziC5xktHs if the video isn't displaying"
   ]
  },
  {
   "cell_type": "markdown",
   "metadata": {},
   "source": [
    "Now for some reading\n",
    "\n",
    "> _Reading_. We'll be reading the textbook _Network Science_ (NS) by Laszlo Barabasi. You can find the whole \n",
    "> thing for free [**here**](http://networksciencebook.com). \n",
    ">\n",
    "> * Read chapter 2\\.\n",
    "> "
   ]
  },
  {
   "cell_type": "markdown",
   "metadata": {},
   "source": [
    "And the associated exercises\n",
    "\n",
    "> *Exercises*: Chapter 2 in *Network Science*.\n",
    "> \n",
    "> * Section 2.5 states that real networks are sparse. Can you think of a real network where each node has _many_ connections? Is that network still sparse? If yes, can you explain why?\n",
    "> \n",
    "> There are more questions on Chapter 2 below.\n",
    "\n",
    "<div class=\"alert alert-block alert-info\">\n",
    "Just as last week, you might be tempted to use an LLM to come up with your answer. Don't! Remember what I said about the *illusion of knowledge* that you get when you take shortcuts. Don't fall into the trap. Think! Write down your own thoughts. And when you're done, you can use an LLM to make the answers better.\n",
    "</div>\n"
   ]
  },
  {
   "cell_type": "markdown",
   "metadata": {},
   "source": [
    "# Part 2: Exercises using the `NetworkX` library\n",
    "\n",
    "Let's try to solve a few of the exercises from the book **using `NetworkX`**\n",
    "\n",
    "> *Exercises*:\n",
    "> \n",
    "> * Go to NS Section 2.12: Homework, then\n",
    ">   * Write the solution exercise **2.1** (the 'Königsberg Problem') from NS in your `notebook`. \n",
    ">   * Solve exercise **2.3** ('Graph representation') from NS using `NetworkX` in your `notebook`. (You don't have to solve the last sub-question about *cycles of length 4* ... but I'll be impressed if you do it. One more thing on that last sub-exercise: It's easier to solve if you don't use `NetworkX`, but simple pen and paper).\n",
    ">   * Solve exercise **2.5** ('Bipartite Networks') from NS using `NetworkX` in your `notebook`. *Important note*: There is a a mistake in the book. When it says \"Block diagonal\", they mean \"Anti-block diagonal\" (all elements are away from the diagonal blocks). \n",
    ">     - *Note*: For those without the physical book (and therefore no exercise numbers), the part \"Bipartite Networks - General Considerations\" does not need to be solved (the two last questions do not make much sense to me).\n",
    "\n",
    "<div class=\"alert alert-block alert-info\">\n",
    "The \"no-LLM\" idea also applies here. The idea is to try to use NetworkX to solve some problems. Give it a shot on your own. You can ask your LLM for hints if you get stuck. But don't ask for the answer. Find it yourself 😎\n",
    "</div>"
   ]
  },
  {
   "cell_type": "markdown",
   "metadata": {},
   "source": [
    "> **_Video Lecture_**: Once again, it's time to stop working for a couple of minutes to hear me talk about plotting with `NetworkX`. \n",
    "> "
   ]
  },
  {
   "cell_type": "code",
   "execution_count": 5,
   "metadata": {},
   "outputs": [
    {
     "data": {
      "image/jpeg": "[encoded data removed]",
      "text/html": [
       "\n",
       "        <iframe\n",
       "            width=\"800\"\n",
       "            height=\"450\"\n",
       "            src=\"https://www.youtube.com/embed/iDlb9On_TDQ\"\n",
       "            frameborder=\"0\"\n",
       "            allowfullscreen\n",
       "            \n",
       "        ></iframe>\n",
       "        "
      ],
      "text/plain": [
       "<IPython.lib.display.YouTubeVideo at 0x107328800>"
      ]
     },
     "execution_count": 5,
     "metadata": {},
     "output_type": "execute_result"
    }
   ],
   "source": [
    "YouTubeVideo(\"iDlb9On_TDQ\",width=800, height=450) \n",
    "# https://www.youtube.com/watch?v=iDlb9On_TDQ"
   ]
  },
  {
   "cell_type": "markdown",
   "metadata": {},
   "source": [
    "# Part 3: Plotting degree distributions\n",
    "\n",
    "As always we'll learn about degree-distribution plotting by creating a `notebook` and trying it out. \n",
    "\n",
    "As a little public service announcement about this exercise: I know that you've probably tried binning data before. And that there are many functions designed to make binning easy, so there is a good chance that you think that binning data into bins is something that you don't have to worry about.\n",
    "\n",
    "**BUT** ... with this exercise, I aim to convince you that binning isn't always trivial. And that there are key things to think about every time you need to put data into buckets. So please read the exercise carefully. And follow my instructions carefully.\n",
    "\n",
    "<div class=\"alert alert-block alert-info\">\n",
    "As I hint right above, this exercise is about you discovering nuances of binning: How defining bins that fit the data is important. How the first and last bin can sometimes be tricky. You won't discover that if you get help, so again I encourage you to try it all on your own.\n",
    "</div>\n",
    "**And don't just use the built-in binning functions. That misses the point. Instead follow the exercise carefully**. \n",
    "\n",
    "> \n",
    "> *Exercises*:\n",
    "> \n",
    "> Begin by importing the right packages. Start by importing `matplotlib.pyplot` (for plotting), `numpy` (for binning and other stuff), \n",
    "> `random` (for generating random numbers), and `networkx` (for generating networks.)\n",
    "> \n",
    "> * Binning real numbers\n",
    ">   * Let's do a gentle start and use the `random` library generate 5000 data points from a Gaussian distribution with $\\mu = 2$ and $\\sigma = 0.125$.\n",
    ">   * Now, let's use `numpy.histogram` to bin those number into 10 bins. What does the `numpy.histogram` function return? Do the two arrays have the same length?\n",
    ">   * Then we use `matplotlib.pyplot.plot` to plot the binned data. You will have to deal with the fact that the counts- and bin-arrays have different lengths. Explain how you deal with this problem and why.\n",
    "> * Binning integers\n",
    ">   * But binning real numbers into a fixed number of bins is easy when `numpy.histogram` does all the work and finds the right bin boundaries for you. \n",
    "> Now we'll generate a bunch of integers and set the bin boundaries manually. This time, let's grab data from a Poisson distribution. As it turns out \n",
    "> `numpy` also has some convenient random number generators. Use `numpy.random.poisson` to generate 5000 numbers drawn from a Poisson distribution \n",
    "> characterized by $\\lambda = 10$. Find the maximum and minimum value of your 5000 random numbers. \n",
    ">   * Instead of simply specifying the number of bins for `numpy.histogram`, let's specify the bins we want using a vector. \n",
    "> Create a vector $v$\n",
    "> that results in a binning that puts each integer value in its own bin and where the first bin contains the minimum number you found above, \n",
    "> and the last bin contains the maximum number. \n",
    "> Use the vector by setting `numpy.histogram`'s `bin` parameter as `bin = ` $v$. \n",
    "> What is the sum over bin counts? Explain how the binning-vectors first and last element \n",
    "> relates to the min and max from the Poisson distribution.\n",
    ">   * Now, use a bar chart (`matplotlib.pyplot.bar`) to plot the distribution \n",
    "> * Binning and plotting degree distributions. \n",
    ">   * Let's generate the Erdös-Renyi (ER) network which has a degree distribution that matches the Poisson distribution above. \n",
    "> First we have to figure out which values the ER parameters (_N_ and _p_) should assume. It's easy to see that $N = 5000$, but how do you find $p$? \n",
    "> **Hint**: The parameter $\\lambda$ in the Poisson distribution corresponds to the average degree, so you have to find a $p$ that results in an average \n",
    "> degree, $k = 10$. And you know that $\\langle k \\rangle = p (N-1)$, which will give you $p$.\n",
    ">   * Now, use `networkx` to create the graph and extract the degree distribution.\n",
    ">   * Finally, create a nice bar plot of the degree distribution, including axes labels and a plot title. Make sure that it looks like the Poisson distribution you plotted above.\n",
    "> "
   ]
  },
  {
   "cell_type": "code",
   "execution_count": 5,
   "metadata": {},
   "outputs": [],
   "source": [
    "import matplotlib.pyplot as plt\n",
    "import numpy as np\n",
    "import networkx as nx\n",
    "import random"
   ]
  },
  {
   "cell_type": "code",
   "execution_count": 10,
   "metadata": {},
   "outputs": [],
   "source": [
    "data = [random.gauss(2, 1/8) for _ in range(5000)]"
   ]
  },
  {
   "cell_type": "code",
   "execution_count": 11,
   "metadata": {},
   "outputs": [],
   "source": [
    "hist = np.histogram(data, bins=10, range=(0,4))"
   ]
  },
  {
   "cell_type": "code",
   "execution_count": 21,
   "metadata": {},
   "outputs": [
    {
     "data": {
      "text/plain": [
       "(array([   0,    0,    0,    2, 2466, 2529,    3,    0,    0,    0]),\n",
       " array([0. , 0.4, 0.8, 1.2, 1.6, 2. , 2.4, 2.8, 3.2, 3.6, 4. ]))"
      ]
     },
     "execution_count": 21,
     "metadata": {},
     "output_type": "execute_result"
    }
   ],
   "source": [
    "hist"
   ]
  },
  {
   "cell_type": "code",
   "execution_count": 17,
   "metadata": {},
   "outputs": [
    {
     "data": {
      "text/plain": [
       "[<matplotlib.lines.Line2D at 0x129f31ad0>]"
      ]
     },
     "execution_count": 17,
     "metadata": {},
     "output_type": "execute_result"
    },
    {
     "data": {
      "image/png": "[encoded data removed]",
      "text/plain": [
       "<Figure size 640x480 with 1 Axes>"
      ]
     },
     "metadata": {},
     "output_type": "display_data"
    }
   ],
   "source": [
    "plt.plot(hist[1][:-1], hist[0], drawstyle='steps-post')"
   ]
  },
  {
   "cell_type": "code",
   "execution_count": 22,
   "metadata": {},
   "outputs": [],
   "source": [
    "psn = np.random.poisson(10, 5000)"
   ]
  },
  {
   "cell_type": "code",
   "execution_count": 26,
   "metadata": {},
   "outputs": [
    {
     "data": {
      "text/plain": [
       "(np.int64(24), np.int64(1))"
      ]
     },
     "execution_count": 26,
     "metadata": {},
     "output_type": "execute_result"
    }
   ],
   "source": [
    "psn.max(), psn.min()"
   ]
  },
  {
   "cell_type": "code",
   "execution_count": 30,
   "metadata": {},
   "outputs": [
    {
     "data": {
      "text/plain": [
       "array([ 1,  1,  2, ..., 22, 23, 24], shape=(5000,))"
      ]
     },
     "execution_count": 30,
     "metadata": {},
     "output_type": "execute_result"
    }
   ],
   "source": [
    "psn.sort()\n",
    "psn"
   ]
  },
  {
   "cell_type": "code",
   "execution_count": 31,
   "metadata": {},
   "outputs": [],
   "source": [
    "v = np.array([[num] for num in psn])"
   ]
  },
  {
   "cell_type": "code",
   "execution_count": 34,
   "metadata": {},
   "outputs": [
    {
     "data": {
      "text/plain": [
       "(5000, 1)"
      ]
     },
     "execution_count": 34,
     "metadata": {},
     "output_type": "execute_result"
    }
   ],
   "source": [
    "v.shape"
   ]
  },
  {
   "cell_type": "code",
   "execution_count": 35,
   "metadata": {},
   "outputs": [
    {
     "name": "stdout",
     "output_type": "stream",
     "text": [
      "Sum over bin counts: 5000\n"
     ]
    },
    {
     "data": {
      "image/png": "[encoded data removed]",
      "text/plain": [
       "<Figure size 640x480 with 1 Axes>"
      ]
     },
     "metadata": {},
     "output_type": "display_data"
    }
   ],
   "source": [
    "# Find min and max values\n",
    "min_val = psn.min()\n",
    "max_val = psn.max()\n",
    "\n",
    "# Create bin edges so each integer gets its own bin\n",
    "bins = np.arange(min_val, max_val + 2)  # +2 because histogram bins are [a, b)\n",
    "\n",
    "# Compute histogram\n",
    "hist2 = np.histogram(psn, bins=bins)\n",
    "\n",
    "# The sum over bin counts should be 5000 (the number of samples)\n",
    "print(\"Sum over bin counts:\", hist2[0].sum())\n",
    "\n",
    "# Plot the distribution\n",
    "plt.bar(bins[:-1], hist2[0])\n",
    "plt.xlabel(\"Value\")\n",
    "plt.ylabel(\"Count\")\n",
    "plt.title(\"Poisson Distribution Histogram\")\n",
    "plt.show()"
   ]
  },
  {
   "cell_type": "markdown",
   "metadata": {},
   "source": [
    "# Part 4: Random networks\n",
    "\n",
    "> **_Video Lecture_**. Now it's time to relax and watch a few minutes of info on _Random Networks_. "
   ]
  },
  {
   "cell_type": "code",
   "execution_count": 4,
   "metadata": {},
   "outputs": [
    {
     "data": {
      "image/jpeg": "[encoded data removed]",
      "text/html": [
       "\n",
       "        <iframe\n",
       "            width=\"800\"\n",
       "            height=\"450\"\n",
       "            src=\"https://www.youtube.com/embed/c_SbQCzgqb0\"\n",
       "            frameborder=\"0\"\n",
       "            allowfullscreen\n",
       "            \n",
       "        ></iframe>\n",
       "        "
      ],
      "text/plain": [
       "<IPython.lib.display.YouTubeVideo at 0x107328590>"
      ]
     },
     "execution_count": 4,
     "metadata": {},
     "output_type": "execute_result"
    }
   ],
   "source": [
    "YouTubeVideo(\"c_SbQCzgqb0\",width=800, height=450) \n",
    "# https://www.youtube.com/watch?v=c_SbQCzgqb0"
   ]
  },
  {
   "cell_type": "markdown",
   "metadata": {},
   "source": [
    "> _Reading_. Read section 3.1-3.7 (the most important part is 3.1-3.4) of Chapter 3 of _Network Science_. You can find the entire book [**here**](http://barabasi.com/networksciencebook/).\n"
   ]
  },
  {
   "cell_type": "markdown",
   "metadata": {},
   "source": [
    "> _Exercises_ (should be completed in a `notebook`):\n",
    "> \n",
    "> * Work through NS exercise 3.1 ('Erdős-Rényi Networks'). The exercise can be found in Section 3.11: Homework.\n",
    "> * Paths. Plot a random network with 200 nodes and an average degree of 1.5\\. (I suggest using `networkx.draw` and reading [the documentation](https://networkx.github.io/documentation/stable/reference/drawing.html) carefully to get an overview of all the options and what they look like. For example, you may want to shrink the node size).\n",
    ">   * Extract the Giant Connected Component, GCC. (Hint: You can use `networkx.connected_component_subgraphs` <- it works in ealier versions of NetworkX (<2.5) || Otherwise, you can use `nx.connected_components(G)` and `G.subgraph(c).copy()`)\n",
    ">   * Choose a node at random from the GCC. (Hint: You may want to try `random.choice`.)\n",
    ">   * Find all nodes that are precisely 2 steps away from that node. (Hint. I suggest `networkx.single_source_shortest_path_length`)\n",
    ">   * Plot the GCC with the following choice of colors. Starting node _black_ (`\"#000000\"`). The nodes 2 steps away _red_ (`\"#ff0000\"`). All other nodes _blue_ (`\"#A0CBE2\"`). Again, I suggest using `networkx.draw()` and reading [the documentation](https://networkx.github.io/documentation/stable/reference/drawing.html) carefully find out how to color individual nodes.\n",
    "> \n",
    "\n",
    "<div class=\"alert alert-block alert-info\">\n",
    "For this exercise, I think you should solve the technical parts on your own (see above for reasons), but it's totally OK to use your LLM to make the plot look better!\n",
    "</div>\n",
    "\n",
    "By the way, the default plot coming out of `networkx` doesn't look like the one below. But by tweaking parameters, you should be able to create something that looks like it.\n",
    "\n",
    "![Sune's Network](https://raw.githubusercontent.com/suneman/socialgraphs2019/master/files/edge_colormap.png)"
   ]
  },
  {
   "cell_type": "markdown",
   "metadata": {},
   "source": [
    "### Book Exercise 3.1"
   ]
  },
  {
   "cell_type": "code",
   "execution_count": 37,
   "metadata": {},
   "outputs": [],
   "source": [
    "N = 3000\n",
    "p = 10**-3"
   ]
  },
  {
   "cell_type": "code",
   "execution_count": 38,
   "metadata": {},
   "outputs": [
    {
     "data": {
      "text/plain": [
       "4498.5"
      ]
     },
     "execution_count": 38,
     "metadata": {},
     "output_type": "execute_result"
    }
   ],
   "source": [
    "# 3.1.1\n",
    "L = p*N*(N-1)/2\n",
    "L"
   ]
  },
  {
   "cell_type": "code",
   "execution_count": 41,
   "metadata": {},
   "outputs": [
    {
     "name": "stdout",
     "output_type": "stream",
     "text": [
      "Average degree k: 2.999\n",
      "Log(N): 8.006367567650246\n",
      "The graph is likely to be connected but not robust.\n"
     ]
    }
   ],
   "source": [
    "# 3.1.2\n",
    "k = p*(N-1)\n",
    "print(f\"Average degree k: {k}\")\n",
    "print(f\"Log(N): {np.log(N)}\")\n",
    "\n",
    "if k < 1:\n",
    "    print(\"The graph is likely to be disconnected.\")\n",
    "elif k == 1:\n",
    "    print(\"The graph is at the connectivity threshold.\")\n",
    "elif k > 1 and k < np.log(N):\n",
    "    print(\"The graph is likely to be connected but not robust.\")\n",
    "elif k >= np.log(N) and k < 2*np.log(N):\n",
    "    print(\"The graph is likely to be connected and robust.\")\n",
    "else:\n",
    "    print(\"The graph is very likely to be connected and robust.\")"
   ]
  },
  {
   "cell_type": "code",
   "execution_count": 42,
   "metadata": {},
   "outputs": [
    {
     "name": "stdout",
     "output_type": "stream",
     "text": [
      "Critical probability p_cr: 0.00033344448149383126\n"
     ]
    }
   ],
   "source": [
    "# 3.1.3\n",
    "p_cr = 1/(N-1)\n",
    "print(f\"Critical probability p_cr: {p_cr}\")"
   ]
  },
  {
   "cell_type": "code",
   "execution_count": null,
   "metadata": {},
   "outputs": [
    {
     "name": "stdout",
     "output_type": "stream",
     "text": [
      "Critical number of nodes N_cr: 9119.129644833789\n"
     ]
    }
   ],
   "source": [
    "# 3.1.4\n",
    "from scipy.optimize import fsolve\n",
    "\n",
    "# Solve p*(N_cr-1) = np.log(N_cr) for N_cr\n",
    "def equation(N_cr):\n",
    "    return p * (N_cr - 1) - np.log(N_cr)\n",
    "\n",
    "N_cr = fsolve(equation, N)  # Use N as initial guess\n",
    "N_cr = N_cr[0]\n",
    "print(f\"Critical number of nodes N_cr: {N_cr}\")"
   ]
  },
  {
   "cell_type": "markdown",
   "metadata": {},
   "source": [
    "#### So N should be greater than that to have only one component"
   ]
  },
  {
   "cell_type": "code",
   "execution_count": 48,
   "metadata": {},
   "outputs": [
    {
     "name": "stdout",
     "output_type": "stream",
     "text": [
      "Critical average degree k_cr: 9.11812964483379\n",
      "Avg. Distance d: 4.125356408126177\n"
     ]
    }
   ],
   "source": [
    "# 3.1.5\n",
    "k_cr = p * (N_cr - 1)\n",
    "print(f\"Critical average degree k_cr: {k_cr}\")\n",
    "\n",
    "d = np.log(N_cr)/np.log(k_cr)\n",
    "print(f\"Avg. Distance d: {d}\")"
   ]
  },
  {
   "cell_type": "code",
   "execution_count": 50,
   "metadata": {},
   "outputs": [
    {
     "data": {
      "image/png": "[encoded data removed]",
      "text/plain": [
       "<Figure size 640x480 with 1 Axes>"
      ]
     },
     "metadata": {},
     "output_type": "display_data"
    }
   ],
   "source": [
    "# Generate Poisson samples with N_cr and k_cr\n",
    "poisson_samples = np.random.poisson(k_cr, int(N_cr))\n",
    "\n",
    "# Find min and max values\n",
    "min_p = poisson_samples.min()\n",
    "max_p = poisson_samples.max()\n",
    "\n",
    "# Create bin edges so each integer gets its own bin\n",
    "bins_p = np.arange(min_p, max_p + 2)\n",
    "\n",
    "# Compute histogram\n",
    "hist_p = np.histogram(poisson_samples, bins=bins_p)\n",
    "\n",
    "# Plot the histogram\n",
    "plt.bar(bins_p[:-1], hist_p[0])\n",
    "plt.xlabel(\"Value\")\n",
    "plt.ylabel(\"Count\")\n",
    "plt.title(f\"Poisson Distribution Histogram (N={int(N_cr)}, λ={k_cr:.2f})\")\n",
    "plt.show()"
   ]
  }
 ],
 "metadata": {
  "anaconda-cloud": {},
  "kernelspec": {
   "display_name": "graphs",
   "language": "python",
   "name": "python3"
  },
  "language_info": {
   "codemirror_mode": {
    "name": "ipython",
    "version": 3
   },
   "file_extension": ".py",
   "mimetype": "text/x-python",
   "name": "python",
   "nbconvert_exporter": "python",
   "pygments_lexer": "ipython3",
   "version": "3.11.13"
  }
 },
 "nbformat": 4,
 "nbformat_minor": 4
}
