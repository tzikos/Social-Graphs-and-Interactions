{
 "cells": [
  {
   "cell_type": "markdown",
   "metadata": {},
   "source": [
    "# Week 8\n",
    "## Overview\n",
    "\n",
    "It's the last time we meet in class for exercises! And to celebrate this mile-stone, I've put together an very nice little set of exercises. And if you're behind, don't worry. The workload is low!\n",
    "\n",
    "  - Part A: First, we play around with sentiment analysis\n",
    "  - That's it!\n"
   ]
  },
  {
   "cell_type": "markdown",
   "metadata": {},
   "source": [
    "# Part A: Sentiment analysis"
   ]
  },
  {
   "cell_type": "markdown",
   "metadata": {},
   "source": [
    "Sentiment analysis is another highly useful technique which we'll use to make sense of the Wiki\n",
    "data. Further, experience shows that it might well be very useful when you get to the project stage of the class."
   ]
  },
  {
   "cell_type": "markdown",
   "metadata": {},
   "source": [
    "\n",
    "\n",
    "> **Video Lecture**: Uncle Sune talks about sentiment and his own youthful adventures.\n",
    "\n"
   ]
  },
  {
   "cell_type": "code",
   "execution_count": 1,
   "metadata": {
    "scrolled": true
   },
   "outputs": [
    {
     "data": {
      "image/jpeg": "[encoded data removed]",
      "text/html": [
       "\n",
       "        <iframe\n",
       "            width=\"800\"\n",
       "            height=\"450\"\n",
       "            src=\"https://www.youtube.com/embed/JuYcaYYlfrI\"\n",
       "            frameborder=\"0\"\n",
       "            allowfullscreen\n",
       "            \n",
       "        ></iframe>\n",
       "        "
      ],
      "text/plain": [
       "<IPython.lib.display.YouTubeVideo at 0x107ad4670>"
      ]
     },
     "execution_count": 1,
     "metadata": {},
     "output_type": "execute_result"
    }
   ],
   "source": [
    "from IPython.display import YouTubeVideo\n",
    "YouTubeVideo(\"JuYcaYYlfrI\",width=800, height=450)"
   ]
  },
  {
   "cell_type": "code",
   "execution_count": 2,
   "metadata": {},
   "outputs": [
    {
     "data": {
      "image/jpeg": "[encoded data removed]",
      "text/html": [
       "\n",
       "        <iframe\n",
       "            width=\"800\"\n",
       "            height=\"450\"\n",
       "            src=\"https://www.youtube.com/embed/hY0UCD5UiiY\"\n",
       "            frameborder=\"0\"\n",
       "            allowfullscreen\n",
       "            \n",
       "        ></iframe>\n",
       "        "
      ],
      "text/plain": [
       "<IPython.lib.display.YouTubeVideo at 0x107ab9700>"
      ]
     },
     "execution_count": 2,
     "metadata": {},
     "output_type": "execute_result"
    }
   ],
   "source": [
    "# There's also this one from 2010 with young Sune's research\n",
    "YouTubeVideo(\"hY0UCD5UiiY\",width=800, height=450)"
   ]
  },
  {
   "cell_type": "markdown",
   "metadata": {},
   "source": [
    "> Reading: [Temporal Patterns of Happiness and Information in a Global Social Network: Hedonometrics and Twitter](http://journals.plos.org/plosone/article?id=10.1371/journal.pone.0026752) \n"
   ]
  },
  {
   "cell_type": "markdown",
   "metadata": {},
   "source": [
    "*Exercise*: Sentiment distribution. \n",
    "> \n",
    "> * Download the LabMT wordlist. It's available as supplementary material from [Temporal Patterns of Happiness and Information in a Global Social Network: Hedonometrics and Twitter](http://journals.plos.org/plosone/article?id=10.1371/journal.pone.0026752) (Data Set S1). Describe briefly how the list was generated.\n",
    "> * Based on the LabMT word list, write a function that calculates sentiment given a list of tokens (the tokens should be lower case, etc).\n",
    "> * Iterage over the nodes in your network, tokenize each page, and calculate sentiment every single page. Now you have sentiment as a new nodal property.\n",
    "> * Calculate the average sentiment across all the pages. Also calculate the median, variance, 25th percentile, 75th percentile.\n",
    "> * Remember histograms? Create a histogram of all of the artists's associated page-sentiments. (And make it a nice histogram - use your histogram making skills from Week 2). Add the mean, meadian, ect from above to your plot.\n",
    "> * Who are the 10 artists with happiest and saddest pages?\n",
    "\n",
    "<div class=\"alert alert-block alert-info\">\n",
    "As long as you get the plots right, it's OK to use LLM help here.\n",
    "</div>\n",
    "\n"
   ]
  },
  {
   "cell_type": "code",
   "execution_count": 3,
   "metadata": {},
   "outputs": [],
   "source": [
    "import pandas as pd\n",
    "\n",
    "df = pd.read_csv('labmt.txt', sep='\\t')"
   ]
  },
  {
   "cell_type": "code",
   "execution_count": 5,
   "metadata": {},
   "outputs": [
    {
     "name": "stdout",
     "output_type": "stream",
     "text": [
      "<class 'pandas.core.frame.DataFrame'>\n",
      "RangeIndex: 10222 entries, 0 to 10221\n",
      "Data columns (total 8 columns):\n",
      " #   Column                        Non-Null Count  Dtype  \n",
      "---  ------                        --------------  -----  \n",
      " 0   word                          10222 non-null  object \n",
      " 1   happiness_rank                10222 non-null  int64  \n",
      " 2   happiness_average             10222 non-null  float64\n",
      " 3   happiness_standard_deviation  10222 non-null  float64\n",
      " 4   twitter_rank                  10222 non-null  object \n",
      " 5   google_rank                   10222 non-null  object \n",
      " 6   nyt_rank                      10222 non-null  object \n",
      " 7   lyrics_rank                   10222 non-null  object \n",
      "dtypes: float64(2), int64(1), object(5)\n",
      "memory usage: 639.0+ KB\n"
     ]
    }
   ],
   "source": [
    "df.info()"
   ]
  },
  {
   "cell_type": "code",
   "execution_count": 11,
   "metadata": {},
   "outputs": [],
   "source": [
    "def calculate_sentiment(tokens: list, word_scores: pd.DataFrame) -> float:\n",
    "    \"\"\"\n",
    "    Calculate the average sentiment score of a list of tokens based on the provided word scores DataFrame.\n",
    "\n",
    "    Parameters:\n",
    "    tokens (list): A list of words (tokens) for which to calculate the sentiment.\n",
    "    word_scores (pd.DataFrame): A DataFrame containing words and their corresponding sentiment scores.\n",
    "\n",
    "    Returns:\n",
    "    float: The average sentiment score of the tokens. Returns 0 if no tokens have a score.\n",
    "    \"\"\"\n",
    "    # Convert the DataFrame to a dictionary for faster lookups\n",
    "    word_score_dict = dict(zip(word_scores['word'], word_scores['happiness_average']))\n",
    "\n",
    "    total_score = 0\n",
    "    count = 0\n",
    "\n",
    "    for token in tokens:\n",
    "        if token in word_score_dict:\n",
    "            total_score += word_score_dict[token]\n",
    "            count += 1\n",
    "\n",
    "    return total_score / count if count > 0 else 0"
   ]
  },
  {
   "cell_type": "code",
   "execution_count": 13,
   "metadata": {},
   "outputs": [
    {
     "name": "stderr",
     "output_type": "stream",
     "text": [
      "100%|██████████| 485/485 [01:20<00:00,  6.06it/s]\n"
     ]
    }
   ],
   "source": [
    "import networkx as nx\n",
    "import os\n",
    "from nltk.tokenize import word_tokenize\n",
    "from tqdm import tqdm\n",
    "\n",
    "# Load the graph\n",
    "graph_path = \"../Week4/rock_performers_graph.gexf\"\n",
    "G = nx.read_gexf(graph_path)\n",
    "\n",
    "# Iterate over nodes and calculate sentiment\n",
    "content_folder = \"../Week4/content\"\n",
    "for node_id in tqdm(G.nodes):\n",
    "    # Find the corresponding HTML page txt file\n",
    "    file_path = os.path.join(content_folder, f\"{node_id}.txt\")\n",
    "    if os.path.exists(file_path):\n",
    "        with open(file_path, 'r', encoding='utf-8') as file:\n",
    "            text = file.read()\n",
    "        \n",
    "        # Tokenize the text\n",
    "        tokens = word_tokenize(text.lower())\n",
    "        # print(f'Tokenized {node_id}: {len(tokens)}', end='\\r')  # Print number of tokens for verification\n",
    "        # Calculate sentiment\n",
    "        sentiment = calculate_sentiment(tokens, df)\n",
    "        # print(f'Calculated sentiment for {node_id}: {sentiment}', end='\\r')  # Print sentiment for verification\n",
    "        # Add sentiment as a nodal feature\n",
    "        G.nodes[node_id]['sentiment'] = sentiment\n",
    "\n",
    "# Save the updated graph\n",
    "output_path = \"./rock_performers_graph_sentiment.gexf\"\n",
    "nx.write_gexf(G, output_path)"
   ]
  },
  {
   "cell_type": "code",
   "execution_count": 14,
   "metadata": {},
   "outputs": [
    {
     "name": "stdout",
     "output_type": "stream",
     "text": [
      "Mean Sentiment: 5.485640958088458\n",
      "Median Sentiment: 5.485594902948533\n",
      "Variance: 0.001430311308246757\n",
      "25th Percentile: 5.4619862574438525\n",
      "75th Percentile: 5.508072512919954\n"
     ]
    },
    {
     "data": {
      "image/png": "[encoded data removed]",
      "text/plain": [
       "<Figure size 1000x600 with 1 Axes>"
      ]
     },
     "metadata": {},
     "output_type": "display_data"
    },
    {
     "name": "stdout",
     "output_type": "stream",
     "text": [
      "10 Saddest Artists:\n",
      "Five_Finger_Death_Punch 5.339253908693132\n",
      "Rage_Against_the_Machine 5.358653827589804\n",
      "Rob_Zombie 5.373939242280398\n",
      "Quiet_Riot 5.393716227554903\n",
      "Canned_Heat 5.395937638213116\n",
      "Traffic_(band) 5.399931086142283\n",
      "Gary_Glitter 5.402677170589288\n",
      "Drowning_Pool 5.40288112726717\n",
      "Poison_(American_band) 5.404811468970925\n",
      "No_Doubt 5.4058339136491105\n",
      "\n",
      "10 Happiest Artists:\n",
      "Air_Supply 5.568498791686759\n",
      "Imagine_Dragons 5.569118134470019\n",
      "Simple_Minds 5.570005341880715\n",
      "Fun_(band) 5.573765361297617\n",
      "Kenny_Loggins 5.575635852911066\n",
      "Michael_Martin_Murphey 5.5852717510409\n",
      "Train_(band) 5.5875156130998995\n",
      "Lenny_Kravitz 5.590038381677717\n",
      "The_Beach_Boys 5.591865110951487\n",
      "Boys_Like_Girls 5.597888276795305\n"
     ]
    }
   ],
   "source": [
    "import numpy as np\n",
    "\n",
    "import matplotlib.pyplot as plt\n",
    "\n",
    "# Extract sentiment values from the graph\n",
    "sentiments = [data['sentiment'] for _, data in G.nodes(data=True) if 'sentiment' in data]\n",
    "\n",
    "# Calculate statistics\n",
    "mean_sentiment = np.mean(sentiments)\n",
    "median_sentiment = np.median(sentiments)\n",
    "variance_sentiment = np.var(sentiments)\n",
    "percentile_25 = np.percentile(sentiments, 25)\n",
    "percentile_75 = np.percentile(sentiments, 75)\n",
    "\n",
    "# Print statistics\n",
    "print(f\"Mean Sentiment: {mean_sentiment}\")\n",
    "print(f\"Median Sentiment: {median_sentiment}\")\n",
    "print(f\"Variance: {variance_sentiment}\")\n",
    "print(f\"25th Percentile: {percentile_25}\")\n",
    "print(f\"75th Percentile: {percentile_75}\")\n",
    "\n",
    "# Create a histogram\n",
    "plt.figure(figsize=(10, 6))\n",
    "plt.hist(sentiments, bins=30, color='skyblue', edgecolor='black', alpha=0.7)\n",
    "plt.axvline(mean_sentiment, color='red', linestyle='dashed', linewidth=1, label=f'Mean: {mean_sentiment:.2f}')\n",
    "plt.axvline(median_sentiment, color='green', linestyle='dashed', linewidth=1, label=f'Median: {median_sentiment:.2f}')\n",
    "plt.axvline(percentile_25, color='orange', linestyle='dashed', linewidth=1, label=f'25th Percentile: {percentile_25:.2f}')\n",
    "plt.axvline(percentile_75, color='purple', linestyle='dashed', linewidth=1, label=f'75th Percentile: {percentile_75:.2f}')\n",
    "plt.title('Histogram of Page Sentiments')\n",
    "plt.xlabel('Sentiment')\n",
    "plt.ylabel('Frequency')\n",
    "plt.legend()\n",
    "plt.show()\n",
    "\n",
    "# Find the 10 happiest and saddest artists\n",
    "sorted_nodes = sorted(G.nodes(data=True), key=lambda x: x[1].get('sentiment', 0))\n",
    "saddest_artists = sorted_nodes[:10]\n",
    "happiest_artists = sorted_nodes[-10:]\n",
    "\n",
    "print(\"10 Saddest Artists:\")\n",
    "for artist in saddest_artists:\n",
    "    print(artist[0], artist[1].get('sentiment', 0))\n",
    "\n",
    "print(\"\\n10 Happiest Artists:\")\n",
    "for artist in happiest_artists:\n",
    "    print(artist[0], artist[1].get('sentiment', 0))"
   ]
  },
  {
   "cell_type": "markdown",
   "metadata": {},
   "source": [
    "*Exercise*: Community sentiment distribution. \n",
    "  \n",
    "> * Last week we calculated the stuctural communities of the graph. For this exercise, we use those communities (just the 10 largest ones, or all your communities if you have fewer than 10). Specifically, you should calculate the average the average sentiment of the nodes in each community to find a *community level sentiment*. \n",
    ">   - Name each community by its three most connected bands. (Or feed the list of bands in each community and ask the LLM to come up with a good name for the community).\n",
    ">   - What are the three happiest communities? (or the two happiest if you have 5 or fewer communities)\n",
    ">   - what are the three saddest communities? (or the two happiest if you have 5 or fewer communities)\n",
    ">   - Do these results confirm what you can learn about each community by comparing to the genres, checking out the word-clouds for each community, and reading the wiki-pages? \n",
    "> * Compare the sentiment of the happiest and saddest communities to the overall (entire network) distribution of sentiment that you calculated in the previous exercise. Are the communities very differenct from the average? Or do you find the sentiment to be quite similar across all of the communities?\n",
    "\n",
    "<div class=\"alert alert-block alert-info\">\n",
    "As above, feel free to go nuts with help from an LLM with this exercise for the technical parts. But try to answer the questions about interpreting the results with your own human brain.\n",
    "</div>\n",
    "\n",
    "**Note**: Calculating sentiment may take a long time, so arm yourself with patience as your code runs (remember to check that it runs correctly, before waiting patiently). Further, these tips may speed things up. And save somewhere, so you don't have to start over.\n",
    "\n",
    "**Tips for speed**\n",
    "* If you use `freqDist` prior to finding the sentiment, you only have to find it for every unique word and hereafter you can do a weighted mean.\n",
    "* More tips for speeding up loops https://wiki.python.org/moin/PythonSpeed/PerformanceTips#Loops"
   ]
  },
  {
   "cell_type": "code",
   "execution_count": 15,
   "metadata": {},
   "outputs": [],
   "source": [
    "import json\n",
    "from collections import Counter\n",
    "\n",
    "# Load the communities\n",
    "with open('../Week7/louvain_comms.json', 'r') as file:\n",
    "    communities = json.load(file)\n",
    "\n",
    "# Calculate community-level sentiment\n",
    "community_sentiments = []\n",
    "for community in communities:\n",
    "    community_sentiment = [G.nodes[band_id]['sentiment'] for band_id in community if 'sentiment' in G.nodes[band_id]]\n",
    "    avg_sentiment = np.mean(community_sentiment) if community_sentiment else 0\n",
    "    community_sentiments.append((community, avg_sentiment))\n",
    "\n",
    "# Sort communities by average sentiment\n",
    "community_sentiments.sort(key=lambda x: x[1])\n",
    "\n",
    "# Save the new json along with average sentiments\n",
    "community_sentiments_serializable = [{\n",
    "    'community': community,\n",
    "    'average_sentiment': avg_sentiment\n",
    "} for community, avg_sentiment in community_sentiments]\n",
    "\n",
    "with open('louvain_comms_sentiments.json', 'w') as file:\n",
    "    json.dump(community_sentiments_serializable, file)"
   ]
  },
  {
   "cell_type": "code",
   "execution_count": 16,
   "metadata": {},
   "outputs": [
    {
     "name": "stdout",
     "output_type": "stream",
     "text": [
      "Happiest Communities:\n",
      "1. Bands: ['Tommy_James_and_the_Shondells'], Sentiment: 5.50\n",
      "2. Bands: ['Nickelback', 'Daughtry_(band)', 'Stone_Temple_Pilots'], Sentiment: 5.50\n",
      "3. Bands: ['U2', 'Aerosmith', 'Coldplay'], Sentiment: 5.51\n",
      "\n",
      "Saddest Communities:\n",
      "1. Bands: ['Black_Sabbath', 'Metallica', 'Korn'], Sentiment: 5.44\n",
      "2. Bands: ['The_Beatles', 'Led_Zeppelin', 'The_Rolling_Stones'], Sentiment: 5.47\n",
      "3. Bands: ['Red_Hot_Chili_Peppers', 'Green_Day', 'Foo_Fighters'], Sentiment: 5.48\n",
      "\n",
      "Comparison to Overall Sentiment:\n",
      "Overall Mean Sentiment: 5.49\n",
      "Variance: 0.00\n",
      "Community 1 Sentiment: 5.50, Difference from Mean: 0.01\n",
      "Community 2 Sentiment: 5.50, Difference from Mean: 0.01\n",
      "Community 3 Sentiment: 5.51, Difference from Mean: 0.03\n",
      "Community 4 Sentiment: 5.44, Difference from Mean: -0.05\n",
      "Community 5 Sentiment: 5.47, Difference from Mean: -0.02\n",
      "Community 6 Sentiment: 5.48, Difference from Mean: -0.01\n"
     ]
    }
   ],
   "source": [
    "# Name each community by its three most connected bands\n",
    "community_names = []\n",
    "for community, _ in community_sentiments:\n",
    "    band_degrees = [(band_id, G.degree(band_id)) for band_id in community]\n",
    "    top_bands = sorted(band_degrees, key=lambda x: x[1], reverse=True)[:3]\n",
    "    top_band_names = [band[0] for band in top_bands]\n",
    "    community_names.append(top_band_names)\n",
    "\n",
    "# Find the happiest and saddest communities\n",
    "happiest_communities = community_sentiments[-3:]\n",
    "saddest_communities = community_sentiments[:3]\n",
    "\n",
    "# Print results\n",
    "print(\"Happiest Communities:\")\n",
    "for i, (community, sentiment) in enumerate(happiest_communities, 1):\n",
    "    print(f\"{i}. Bands: {community_names[communities.index(community)]}, Sentiment: {sentiment:.2f}\")\n",
    "\n",
    "print(\"\\nSaddest Communities:\")\n",
    "for i, (community, sentiment) in enumerate(saddest_communities, 1):\n",
    "    print(f\"{i}. Bands: {community_names[communities.index(community)]}, Sentiment: {sentiment:.2f}\")\n",
    "\n",
    "# Compare to overall sentiment\n",
    "print(\"\\nComparison to Overall Sentiment:\")\n",
    "print(f\"Overall Mean Sentiment: {mean_sentiment:.2f}\")\n",
    "print(f\"Variance: {variance_sentiment:.2f}\")\n",
    "for i, (community, sentiment) in enumerate(happiest_communities + saddest_communities, 1):\n",
    "    print(f\"Community {i} Sentiment: {sentiment:.2f}, Difference from Mean: {sentiment - mean_sentiment:.2f}\")"
   ]
  }
 ],
 "metadata": {
  "kernelspec": {
   "display_name": "graphs",
   "language": "python",
   "name": "python3"
  },
  "language_info": {
   "codemirror_mode": {
    "name": "ipython",
    "version": 3
   },
   "file_extension": ".py",
   "mimetype": "text/x-python",
   "name": "python",
   "nbconvert_exporter": "python",
   "pygments_lexer": "ipython3",
   "version": "3.11.11"
  }
 },
 "nbformat": 4,
 "nbformat_minor": 4
}
